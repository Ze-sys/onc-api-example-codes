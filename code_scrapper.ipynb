{
 "cells": [
  {
   "cell_type": "code",
   "execution_count": 16,
   "metadata": {},
   "outputs": [],
   "source": [
    "import json\n",
    "import bs4 as bs\n",
    "import requests\n",
    "import pandas as pd"
   ]
  },
  {
   "cell_type": "code",
   "execution_count": 33,
   "metadata": {},
   "outputs": [],
   "source": [
    "url = f'https://wiki.oceannetworks.ca/display/O2A/Sample+Code'\n",
    "response = requests.get(url)\n",
    "\n",
    "if (response.ok):\n",
    "    # requestInfo = response._content #json.loads(str(response._content,'utf-8')) # convert the json response to an object\n",
    "    requestInfo =response._content #json.loads(str(response._content,'utf-8')) # convert the json response to an object\n",
    "else:\n",
    "    if(response.status_code == 400):\n",
    "        error = json.loads(str(response._content,'utf-8'))\n",
    "        print(error) # json response contains a list of errors, with an errorMessage and parameter\n",
    "    else:\n",
    "        print ('Error {} - {}'.format(response.status_code,response.reason))"
   ]
  },
  {
   "cell_type": "code",
   "execution_count": 39,
   "metadata": {},
   "outputs": [],
   "source": [
    "soup = bs.BeautifulSoup(requestInfo, 'lxml')\n",
    "request_hrfs = soup.select(\"a[href*='display/O2A/Request']\")\n",
    "discover_hrfs = soup.select(\"a[href*='display/O2A/Discover']\")\n",
    "\n",
    "discover_urls = [ 'https://wiki.oceannetworks.ca' + hrf.get('href') for hrf in discover_hrfs]\n",
    "request_urls = [ 'https://wiki.oceannetworks.ca' + hrf.get('href') for hrf in request_hrfs]\n"
   ]
  },
  {
   "cell_type": "code",
   "execution_count": 44,
   "metadata": {},
   "outputs": [],
   "source": [
    "all_discovery_codes = []\n",
    "for url in discover_urls:\n",
    "    response1 = requests.get(url)\n",
    "\n",
    "    if (response1.ok):\n",
    "        requestInfo1 = response1._content #json.loads(str(response._content,'utf-8')) # convert the json response to an object\n",
    "        soup1 = bs.BeautifulSoup(requestInfo1, 'lxml')\n",
    "        contents = soup1.find('div', class_=\"wiki-content\", id=\"main-content\").text\n",
    "        all_discovery_codes.append(contents)\n",
    "    else:\n",
    "        if(response1.status_code == 400):\n",
    "            error = response1._content\n",
    "            print(error) # json response contains a list of errors, with an errorMessage and parameter\n",
    "        else:\n",
    "            print ('Error {} - {}'.format(response1.status_code,response1.reason))\n"
   ]
  },
  {
   "cell_type": "code",
   "execution_count": 48,
   "metadata": {},
   "outputs": [],
   "source": [
    "all_request_codes = []\n",
    "for url in request_urls:\n",
    "    response1 = requests.get(url)\n",
    "\n",
    "    if (response1.ok):\n",
    "        requestInfo1 = response1._content #json.loads(str(response._content,'utf-8')) # convert the json response to an object\n",
    "        soup1 = bs.BeautifulSoup(requestInfo1, 'html.parser')\n",
    "        contents = soup1.find('div', class_=\"wiki-content\", id=\"main-content\").text\n",
    "        all_request_codes.append(contents)\n",
    "    else:\n",
    "        if(response1.status_code == 400):\n",
    "            error = response1._content\n",
    "            print(error) # json response contains a list of errors, with an errorMessage and parameter\n",
    "        else:\n",
    "            print ('Error {} - {}'.format(response1.status_code,response1.reason))\n"
   ]
  },
  {
   "cell_type": "code",
   "execution_count": 53,
   "metadata": {},
   "outputs": [],
   "source": [
    "with open('discover_codes.txt', 'w') as f:\n",
    "    for item in all_discovery_codes:\n",
    "        f.write(\"%s\\n\" % item)"
   ]
  },
  {
   "cell_type": "code",
   "execution_count": 54,
   "metadata": {},
   "outputs": [],
   "source": [
    "with open('request_codes.txt', 'w') as f:\n",
    "    for item in all_request_codes:\n",
    "        f.write(\"%s\\n\" % item)"
   ]
  }
 ],
 "metadata": {
  "interpreter": {
   "hash": "cd3f906648e255e19ef2b6b0fdce8eb831c38e9e9d6f007127dd7d20a61b9a8f"
  },
  "kernelspec": {
   "display_name": "Python 3.8.10 64-bit ('recipes': venv)",
   "language": "python",
   "name": "python3"
  },
  "language_info": {
   "codemirror_mode": {
    "name": "ipython",
    "version": 3
   },
   "file_extension": ".py",
   "mimetype": "text/x-python",
   "name": "python",
   "nbconvert_exporter": "python",
   "pygments_lexer": "ipython3",
   "version": "3.8.10"
  },
  "orig_nbformat": 4
 },
 "nbformat": 4,
 "nbformat_minor": 2
}
