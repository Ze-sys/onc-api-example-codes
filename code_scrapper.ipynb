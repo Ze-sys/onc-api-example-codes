{
 "cells": [
  {
   "cell_type": "code",
   "execution_count": 27,
   "metadata": {},
   "outputs": [],
   "source": [
    "import os\n",
    "import json\n",
    "import requests\n",
    "import bs4 as bs"
   ]
  },
  {
   "cell_type": "markdown",
   "metadata": {},
   "source": [
    "# For api example codes documentation"
   ]
  },
  {
   "cell_type": "markdown",
   "metadata": {},
   "source": [
    "#### Directories to save the example code snippets"
   ]
  },
  {
   "cell_type": "code",
   "execution_count": 28,
   "metadata": {},
   "outputs": [
    {
     "data": {
      "text/plain": [
       "[]"
      ]
     },
     "execution_count": 28,
     "metadata": {},
     "output_type": "execute_result"
    }
   ],
   "source": [
    "script_dirs = ['scripts/Python3', 'scripts/R', 'scripts/MATLAB'] # Forget pyhon 2.x\n",
    "# create a folder for each language if it does not exist\n",
    "[os.makedirs(x) for x in script_dirs if not os.path.exists(x)]"
   ]
  },
  {
   "cell_type": "code",
   "execution_count": 29,
   "metadata": {},
   "outputs": [],
   "source": [
    "# Helper methods\n",
    "def write_to_file(file_name, data):\n",
    "    with open(file_name, 'w') as f:\n",
    "        f.write(data)\n",
    "\n",
    "\n",
    "def notify(method_name,language_name,script_path):\n",
    "        success_ = 'Example code for method {} and language option {} saved in `{}` file.'.format(method_name,\n",
    "                                                                                              language_name,\n",
    "                                                                                              script_path)\n",
    "        return print(success_)"
   ]
  },
  {
   "cell_type": "code",
   "execution_count": 30,
   "metadata": {},
   "outputs": [],
   "source": [
    "def parse_and_write_out_example_code(obj):\n",
    "    \"\"\"\n",
    "    This function parses the example code from the wiki page.\n",
    "    INPUT:\n",
    "    obj: soup object\n",
    "    OUTPUT:\n",
    "    Writes the example code to a file with the  a filename based on api method used and language extension.\n",
    "    \"\"\"\n",
    "    method_names = obj.find_all('span', class_=\"expand-control-text\")\n",
    "    language_names = obj.find_all('div', class_=\"codeHeader panelHeader pdl\")\n",
    "    language_examples = obj.find_all('div', class_=\"codeContent panelContent pdl\")\n",
    "\n",
    "    for methd_name in method_names:\n",
    "        \n",
    "        for language_name, language_example in zip(language_names, language_examples): \n",
    "            if  methd_name.text != 'Expand source':\n",
    "                method_name = methd_name.text.lower().replace(' ', '_').replace(',', '')\n",
    "                language_name = language_name.text.replace(' ', '').strip('.x')\n",
    "                language_example = language_example.text\n",
    "\n",
    "                if language_name.lower() == 'python3':\n",
    "                    script_path = 'scripts/{}/{}.py'.format(language_name, method_name)\n",
    "                    write_to_file(script_path, language_example)\n",
    "                    notify(method_name,language_name,script_path)\n",
    "\n",
    "                elif language_name == 'R':\n",
    "                    script_path = 'scripts/{}/{}.R'.format(language_name, method_name)\n",
    "                    write_to_file(script_path, language_example)\n",
    "                    notify(method_name,language_name,script_path)\n",
    "\n",
    "                elif language_name == 'MATLAB':\n",
    "                    script_path = 'scripts/{}/{}.m'.format(language_name, method_name)\n",
    "                    write_to_file(script_path, language_example)\n",
    "                    notify(method_name,language_name,script_path)\n",
    "\n",
    "                else:\n",
    "                    print(method_name,language_name,script_path)\n",
    "                    raise Exception('This is all Greek to me \\U0001F3B2')"
   ]
  },
  {
   "cell_type": "markdown",
   "metadata": {},
   "source": [
    "#### Parse and write out each discovery method  example code for each language"
   ]
  },
  {
   "cell_type": "code",
   "execution_count": 31,
   "metadata": {},
   "outputs": [],
   "source": [
    "\n",
    "def get_all_discovery_service_codes(discover_urls):\n",
    "    for url in discover_urls:\n",
    "        response = requests.get(url)\n",
    "        if response.ok:\n",
    "            requestInfo = response._content  \n",
    "            soup1 = bs.BeautifulSoup(requestInfo, 'html.parser')\n",
    "            parse_and_write_out_example_code(soup1)\n",
    "        else:\n",
    "            if response.status_code == 400:\n",
    "                error = response._content\n",
    "                print(error)  \n",
    "            else:\n",
    "                print('Error {} - {}'.format(response.status_code, response.reason))"
   ]
  },
  {
   "cell_type": "markdown",
   "metadata": {},
   "source": [
    "####  Parse and write out each request method  example code for each language"
   ]
  },
  {
   "cell_type": "code",
   "execution_count": 32,
   "metadata": {},
   "outputs": [],
   "source": [
    "def get_all_request_service_codes(request_urls, all_request_codes = []):\n",
    "    for url in request_urls:\n",
    "        response = requests.get(url)\n",
    "        if response.ok:\n",
    "            requestInfo = response._content\n",
    "            soup2 = bs.BeautifulSoup(requestInfo, 'html.parser')\n",
    "            parse_and_write_out_example_code(soup2)\n",
    "        else:\n",
    "            if response.status_code == 400:\n",
    "                error = response._content\n",
    "                print(error)\n",
    "            else:\n",
    "                print('Error {} - {}'.format(response.status_code, response.reason))"
   ]
  },
  {
   "cell_type": "markdown",
   "metadata": {},
   "source": [
    "#### Make requests"
   ]
  },
  {
   "cell_type": "code",
   "execution_count": 33,
   "metadata": {},
   "outputs": [],
   "source": [
    "def make_requests(url):\n",
    "        response = requests.get(url)\n",
    "\n",
    "        if response.ok:\n",
    "            requestInfo = response._content\n",
    "        else:\n",
    "            if (response.status_code == 400):\n",
    "                error = json.loads(str(response._content, 'utf-8'))\n",
    "                print(error)\n",
    "            else:\n",
    "                print('Error {} - {}'.format(response.status_code, response.reason))\n",
    "\n",
    "        # Parse the html file using BeautifulSoup\n",
    "        soup = bs.BeautifulSoup(requestInfo, 'html.parser')\n",
    "        request_hrfs = soup.select(\"a[href*='display/O2A/Request']\")\n",
    "        discover_hrfs = soup.select(\"a[href*='display/O2A/Discover']\")\n",
    "        discover_urls = ['https://wiki.oceannetworks.ca' + hrf.get('href') for hrf in discover_hrfs]\n",
    "        request_urls = ['https://wiki.oceannetworks.ca' + hrf.get('href') for hrf in request_hrfs]\n",
    "        return discover_urls, request_urls"
   ]
  },
  {
   "cell_type": "code",
   "execution_count": null,
   "metadata": {},
   "outputs": [],
   "source": [
    "if __name__ == '__main__':\n",
    "    # Grab the html file that has the Sample Codes\n",
    "    url = f'https://wiki.oceannetworks.ca/display/O2A/Sample+Code'\n",
    "    discover_urls, request_urls = make_requests(url)       \n",
    "    get_all_discovery_service_codes(discover_urls)\n",
    "    get_all_request_service_codes(request_urls)\n",
    "\n",
    "# TODO: scrap the client library example codes next. Low priority. "
   ]
  },
  {
   "cell_type": "code",
   "execution_count": 35,
   "metadata": {},
   "outputs": [],
   "source": [
    "%reset"
   ]
  }
 ],
 "metadata": {
  "interpreter": {
   "hash": "cd3f906648e255e19ef2b6b0fdce8eb831c38e9e9d6f007127dd7d20a61b9a8f"
  },
  "kernelspec": {
   "display_name": "Python 3.8.10 64-bit ('recipes': venv)",
   "language": "python",
   "name": "python3"
  },
  "language_info": {
   "codemirror_mode": {
    "name": "ipython",
    "version": 3
   },
   "file_extension": ".py",
   "mimetype": "text/x-python",
   "name": "python",
   "nbconvert_exporter": "python",
   "pygments_lexer": "ipython3",
   "version": "3.8.10"
  },
  "orig_nbformat": 4
 },
 "nbformat": 4,
 "nbformat_minor": 2
}
